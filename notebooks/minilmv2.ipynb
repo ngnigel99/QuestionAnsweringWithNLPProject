{
 "cells": [
  {
   "cell_type": "code",
   "execution_count": 1,
   "metadata": {},
   "outputs": [
    {
     "data": {
      "application/vnd.jupyter.widget-view+json": {
       "model_id": "481fd980582f4e24a17008a89e51dd2a",
       "version_major": 2,
       "version_minor": 0
      },
      "text/plain": [
       "Downloading (…)okenizer_config.json:   0%|          | 0.00/372 [00:00<?, ?B/s]"
      ]
     },
     "metadata": {},
     "output_type": "display_data"
    },
    {
     "data": {
      "application/vnd.jupyter.widget-view+json": {
       "model_id": "bce9741e61c54f159be02ca1378ad167",
       "version_major": 2,
       "version_minor": 0
      },
      "text/plain": [
       "Downloading (…)olve/main/vocab.json:   0%|          | 0.00/798k [00:00<?, ?B/s]"
      ]
     },
     "metadata": {},
     "output_type": "display_data"
    },
    {
     "data": {
      "application/vnd.jupyter.widget-view+json": {
       "model_id": "5f78b014f2ed494290a644bc60a98eef",
       "version_major": 2,
       "version_minor": 0
      },
      "text/plain": [
       "Downloading (…)olve/main/merges.txt:   0%|          | 0.00/456k [00:00<?, ?B/s]"
      ]
     },
     "metadata": {},
     "output_type": "display_data"
    },
    {
     "data": {
      "application/vnd.jupyter.widget-view+json": {
       "model_id": "f0df5ab17f0f405bb39afacc2af269d6",
       "version_major": 2,
       "version_minor": 0
      },
      "text/plain": [
       "Downloading (…)/main/tokenizer.json:   0%|          | 0.00/2.11M [00:00<?, ?B/s]"
      ]
     },
     "metadata": {},
     "output_type": "display_data"
    },
    {
     "data": {
      "application/vnd.jupyter.widget-view+json": {
       "model_id": "2fa53e37deff44659e8d1b6c43ddd328",
       "version_major": 2,
       "version_minor": 0
      },
      "text/plain": [
       "Downloading (…)cial_tokens_map.json:   0%|          | 0.00/239 [00:00<?, ?B/s]"
      ]
     },
     "metadata": {},
     "output_type": "display_data"
    },
    {
     "data": {
      "application/vnd.jupyter.widget-view+json": {
       "model_id": "cfa5e9694cea4b6384709eaa0efe6669",
       "version_major": 2,
       "version_minor": 0
      },
      "text/plain": [
       "Downloading (…)lve/main/config.json:   0%|          | 0.00/722 [00:00<?, ?B/s]"
      ]
     },
     "metadata": {},
     "output_type": "display_data"
    },
    {
     "data": {
      "application/vnd.jupyter.widget-view+json": {
       "model_id": "012200173de043309c438558c80105f9",
       "version_major": 2,
       "version_minor": 0
      },
      "text/plain": [
       "Downloading pytorch_model.bin:   0%|          | 0.00/121M [00:00<?, ?B/s]"
      ]
     },
     "metadata": {},
     "output_type": "display_data"
    }
   ],
   "source": [
    "import transformers\n",
    "\n",
    "\n",
    "# use sguskin/minilmv2-L6-H384-squad1.1\n",
    "from transformers import AutoTokenizer, AutoModelForQuestionAnswering\n",
    "\n",
    "tokenizer = AutoTokenizer.from_pretrained(\"sguskin/minilmv2-L6-H384-squad1.1\")\n",
    "model = AutoModelForQuestionAnswering.from_pretrained(\"sguskin/minilmv2-L6-H384-squad1.1\")\n"
   ]
  },
  {
   "cell_type": "code",
   "execution_count": 2,
   "metadata": {},
   "outputs": [],
   "source": [
    "# reading from dev-v1.1.json\n",
    "import json\n",
    "data = json.load(open(\"./dev-v1.1.json\"))"
   ]
  },
  {
   "cell_type": "code",
   "execution_count": 3,
   "metadata": {},
   "outputs": [
    {
     "name": "stderr",
     "output_type": "stream",
     "text": [
      "0it [00:00, ?it/s]2023-11-13 14:20:09.539321: W tensorflow/stream_executor/platform/default/dso_loader.cc:60] Could not load dynamic library 'libcudart.so.11.0'; dlerror: libcudart.so.11.0: cannot open shared object file: No such file or directory\n",
      "2023-11-13 14:20:09.539357: I tensorflow/stream_executor/cuda/cudart_stub.cc:29] Ignore above cudart dlerror if you do not have a GPU set up on your machine.\n",
      "10570it [00:35, 296.00it/s]"
     ]
    },
    {
     "name": "stdout",
     "output_type": "stream",
     "text": [
      "Time taken:  35.71459221839905 seconds\n",
      "Done writing to file\n"
     ]
    },
    {
     "name": "stderr",
     "output_type": "stream",
     "text": [
      "\n"
     ]
    }
   ],
   "source": [
    "import time\n",
    "from tqdm import tqdm\n",
    "import torch\n",
    "\n",
    "def parse_data(data):\n",
    "    # parses data to only retrieve id, context, question\n",
    "    questions = []\n",
    "    contexts = []\n",
    "    ids = []\n",
    "    for data_item in data[\"data\"]:\n",
    "        for paragraph in data_item[\"paragraphs\"]:\n",
    "            for qa in paragraph[\"qas\"]:\n",
    "                questions.append(qa[\"question\"])\n",
    "                contexts.append(paragraph[\"context\"])\n",
    "                ids.append(qa[\"id\"])\n",
    "    \n",
    "    return zip(ids, questions, contexts)\n",
    "\n",
    "def answer(model, data, output_file):\n",
    "    device = torch.device(\"cuda\" if torch.cuda.is_available() else \"cpu\")\n",
    "    model = model.to(device)\n",
    "    start_time = time.time()\n",
    "    res = {}\n",
    "    for id_, question, context in tqdm(parse_data(data)):\n",
    "        inputs = tokenizer.encode_plus(question, context,\n",
    "                                       add_special_tokens=True, return_tensors=\"pt\",\n",
    "                                       max_length=512, truncation='only_second', padding='max_length'\n",
    "                                       ).to(device)\n",
    "        \n",
    "        input_ids = inputs[\"input_ids\"].tolist()[0]\n",
    "\n",
    "        text_tokens = tokenizer.convert_ids_to_tokens(input_ids)\n",
    "        answer_start_scores, answer_end_scores = model(**inputs, return_dict=False)\n",
    "        answer_start = torch.argmax(answer_start_scores).to(device)\n",
    "        answer_end = torch.argmax(answer_end_scores).to(device) \n",
    "    \n",
    "        predict_anser_tokens = text_tokens[answer_start:answer_end+1]\n",
    "        predict_answer = tokenizer.decode(tokenizer.convert_tokens_to_ids(predict_anser_tokens))\n",
    "        res[id_] = predict_answer\n",
    "        \n",
    "    print(\"Time taken: \", time.time() - start_time, \"seconds\")\n",
    "    \n",
    "    with open(output_file, 'w') as f:\n",
    "        json.dump(res, f)\n",
    "\n",
    "    print(\"Done writing to file\")\n",
    "            \n",
    "answer(model, data, \"predictions_minimlv.json\")"
   ]
  },
  {
   "cell_type": "code",
   "execution_count": 4,
   "metadata": {},
   "outputs": [
    {
     "name": "stderr",
     "output_type": "stream",
     "text": [
      "huggingface/tokenizers: The current process just got forked, after parallelism has already been used. Disabling parallelism to avoid deadlocks...\n",
      "To disable this warning, you can either:\n",
      "\t- Avoid using `tokenizers` before the fork if possible\n",
      "\t- Explicitly set the environment variable TOKENIZERS_PARALLELISM=(true | false)\n"
     ]
    },
    {
     "name": "stdout",
     "output_type": "stream",
     "text": [
      "{\n",
      "  \"exact\": 79.78240302743615,\n",
      "  \"f1\": 87.21905198690425,\n",
      "  \"total\": 10570,\n",
      "  \"HasAns_exact\": 79.78240302743615,\n",
      "  \"HasAns_f1\": 87.21905198690425,\n",
      "  \"HasAns_total\": 10570\n",
      "}\n"
     ]
    }
   ],
   "source": [
    "!python evaluate-v2.0.py dev-v1.1.json predictions_minimlv.json"
   ]
  }
 ],
 "metadata": {
  "kernelspec": {
   "display_name": "roberta",
   "language": "python",
   "name": "python3"
  },
  "language_info": {
   "codemirror_mode": {
    "name": "ipython",
    "version": 3
   },
   "file_extension": ".py",
   "mimetype": "text/x-python",
   "name": "python",
   "nbconvert_exporter": "python",
   "pygments_lexer": "ipython3",
   "version": "3.8.18"
  }
 },
 "nbformat": 4,
 "nbformat_minor": 2
}
