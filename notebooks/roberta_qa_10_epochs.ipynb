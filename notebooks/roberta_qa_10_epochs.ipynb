{
 "cells": [
  {
   "cell_type": "code",
   "execution_count": 1,
   "metadata": {},
   "outputs": [
    {
     "data": {
      "application/vnd.jupyter.widget-view+json": {
       "model_id": "a93b05ff410542cb960320db921b3ef2",
       "version_major": 2,
       "version_minor": 0
      },
      "text/plain": [
       "Downloading (…)okenizer_config.json:   0%|          | 0.00/1.22k [00:00<?, ?B/s]"
      ]
     },
     "metadata": {},
     "output_type": "display_data"
    },
    {
     "data": {
      "application/vnd.jupyter.widget-view+json": {
       "model_id": "09a121c870ee443e8d8212a46aab9b4d",
       "version_major": 2,
       "version_minor": 0
      },
      "text/plain": [
       "Downloading (…)olve/main/vocab.json:   0%|          | 0.00/798k [00:00<?, ?B/s]"
      ]
     },
     "metadata": {},
     "output_type": "display_data"
    },
    {
     "data": {
      "application/vnd.jupyter.widget-view+json": {
       "model_id": "3bba9340b4564b33be4595dc5aa77adf",
       "version_major": 2,
       "version_minor": 0
      },
      "text/plain": [
       "Downloading (…)olve/main/merges.txt:   0%|          | 0.00/456k [00:00<?, ?B/s]"
      ]
     },
     "metadata": {},
     "output_type": "display_data"
    },
    {
     "data": {
      "application/vnd.jupyter.widget-view+json": {
       "model_id": "0b28476dcaf14723b1641b085f4f2d23",
       "version_major": 2,
       "version_minor": 0
      },
      "text/plain": [
       "Downloading (…)cial_tokens_map.json:   0%|          | 0.00/280 [00:00<?, ?B/s]"
      ]
     },
     "metadata": {},
     "output_type": "display_data"
    },
    {
     "data": {
      "application/vnd.jupyter.widget-view+json": {
       "model_id": "628299633dbd4b6c94c65189d0a49858",
       "version_major": 2,
       "version_minor": 0
      },
      "text/plain": [
       "Downloading (…)/main/tokenizer.json:   0%|          | 0.00/2.11M [00:00<?, ?B/s]"
      ]
     },
     "metadata": {},
     "output_type": "display_data"
    },
    {
     "data": {
      "application/vnd.jupyter.widget-view+json": {
       "model_id": "a781446f6b4041f7b426f09e7c7dcf13",
       "version_major": 2,
       "version_minor": 0
      },
      "text/plain": [
       "Downloading (…)lve/main/config.json:   0%|          | 0.00/681 [00:00<?, ?B/s]"
      ]
     },
     "metadata": {},
     "output_type": "display_data"
    },
    {
     "data": {
      "application/vnd.jupyter.widget-view+json": {
       "model_id": "bc13b43f3f5f4d41877233d67d1f61d6",
       "version_major": 2,
       "version_minor": 0
      },
      "text/plain": [
       "Downloading model.safetensors:   0%|          | 0.00/496M [00:00<?, ?B/s]"
      ]
     },
     "metadata": {},
     "output_type": "display_data"
    }
   ],
   "source": [
    "import transformers\n",
    "from transformers import RobertaTokenizer, RobertaForQuestionAnswering\n",
    "tokenizer = RobertaTokenizer.from_pretrained('ngnigel99/RoBERTa_QA-FineTuned_2')\n",
    "model = RobertaForQuestionAnswering.from_pretrained('ngnigel99/RoBERTa_QA-FineTuned_2')"
   ]
  },
  {
   "cell_type": "code",
   "execution_count": 2,
   "metadata": {},
   "outputs": [],
   "source": [
    "# reading from dev-v1.1.json\n",
    "import json\n",
    "data = json.load(open(\"./dev-v1.1.json\"))"
   ]
  },
  {
   "cell_type": "code",
   "execution_count": 4,
   "metadata": {},
   "outputs": [
    {
     "name": "stderr",
     "output_type": "stream",
     "text": [
      "0it [00:00, ?it/s]"
     ]
    },
    {
     "name": "stderr",
     "output_type": "stream",
     "text": [
      "10570it [01:13, 143.34it/s]\n"
     ]
    },
    {
     "name": "stdout",
     "output_type": "stream",
     "text": [
      "Time taken:  73.74936938285828 seconds\n",
      "Done writing to file\n"
     ]
    }
   ],
   "source": [
    "import time\n",
    "from tqdm import tqdm\n",
    "import torch\n",
    "\n",
    "def parse_data(data):\n",
    "    # parses data to only retrieve id, context, question\n",
    "    questions = []\n",
    "    contexts = []\n",
    "    ids = []\n",
    "    for data_item in data[\"data\"]:\n",
    "        for paragraph in data_item[\"paragraphs\"]:\n",
    "            for qa in paragraph[\"qas\"]:\n",
    "                questions.append(qa[\"question\"])\n",
    "                contexts.append(paragraph[\"context\"])\n",
    "                ids.append(qa[\"id\"])\n",
    "    \n",
    "    return zip(ids, questions, contexts)\n",
    "\n",
    "def answer(model, data, output_file):\n",
    "    device = torch.device(\"cuda\" if torch.cuda.is_available() else \"cpu\")\n",
    "    model = model.to(device)\n",
    "    start_time = time.time()\n",
    "    res = {}\n",
    "    for id_, question, context in tqdm(parse_data(data)):\n",
    "        inputs = tokenizer.encode_plus(question, context, add_special_tokens=True, return_tensors=\"pt\",\n",
    "                                       max_length=512, truncation='only_second', padding='max_length',\n",
    "                                       return_overflowing_tokens=True)     \n",
    "           \n",
    "        # Remove overflowing_tokens from inputs\n",
    "        if 'overflowing_tokens' in inputs:\n",
    "            del inputs['overflowing_tokens']\n",
    "            \n",
    "        if 'num_truncated_tokens' in inputs:\n",
    "            del inputs['num_truncated_tokens']\n",
    "            \n",
    "        inputs = {k: v.to(device) for k, v in inputs.items()}\n",
    "\n",
    "        input_ids = inputs[\"input_ids\"].tolist()[0]\n",
    "\n",
    "        # Move input_ids back to CPU for use with tokenizer\n",
    "        input_ids_cpu = inputs[\"input_ids\"].to('cpu').tolist()[0]\n",
    "        text_tokens = tokenizer.convert_ids_to_tokens(input_ids_cpu)\n",
    "        outputs = model(**inputs)\n",
    "\n",
    "        answer_start_scores = outputs.start_logits\n",
    "        answer_end_scores = outputs.end_logits\n",
    "        \n",
    "        answer_start = torch.argmax(answer_start_scores)\n",
    "        answer_end = torch.argmax(answer_end_scores) + 1\n",
    "\n",
    "        # Convert input_ids back to GPU for slicing\n",
    "        input_ids = inputs[\"input_ids\"][0] \n",
    "        answer = tokenizer.convert_tokens_to_string(tokenizer.convert_ids_to_tokens(input_ids[answer_start:answer_end].to('cpu')))\n",
    "        \n",
    "        res[id_] = answer\n",
    "    \n",
    "    print(\"Time taken: \", time.time() - start_time, \"seconds\")\n",
    "    \n",
    "    with open(output_file, 'w') as f:\n",
    "        json.dump(res, f)\n",
    "\n",
    "    print(\"Done writing to file\")\n",
    "            \n",
    "answer(model, data, \"predictions_2.json\")"
   ]
  },
  {
   "cell_type": "code",
   "execution_count": 5,
   "metadata": {},
   "outputs": [
    {
     "name": "stdout",
     "output_type": "stream",
     "text": [
      "{\n",
      "  \"exact\": 72.57332071901608,\n",
      "  \"f1\": 80.79021807607467,\n",
      "  \"total\": 10570,\n",
      "  \"HasAns_exact\": 72.57332071901608,\n",
      "  \"HasAns_f1\": 80.79021807607467,\n",
      "  \"HasAns_total\": 10570\n",
      "}\n"
     ]
    }
   ],
   "source": [
    "!python evaluate-v2.0.py dev-v1.1.json predictions_2.json"
   ]
  }
 ],
 "metadata": {
  "kernelspec": {
   "display_name": "roberta",
   "language": "python",
   "name": "python3"
  },
  "language_info": {
   "codemirror_mode": {
    "name": "ipython",
    "version": 3
   },
   "file_extension": ".py",
   "mimetype": "text/x-python",
   "name": "python",
   "nbconvert_exporter": "python",
   "pygments_lexer": "ipython3",
   "version": "3.8.18"
  }
 },
 "nbformat": 4,
 "nbformat_minor": 2
}
