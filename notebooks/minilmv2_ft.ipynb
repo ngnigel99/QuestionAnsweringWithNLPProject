{
 "cells": [
  {
   "cell_type": "code",
   "execution_count": 1,
   "metadata": {},
   "outputs": [
    {
     "data": {
      "application/vnd.jupyter.widget-view+json": {
       "model_id": "5081214092e94d0db888d8796fc94389",
       "version_major": 2,
       "version_minor": 0
      },
      "text/plain": [
       "Downloading (…)okenizer_config.json:   0%|          | 0.00/1.44k [00:00<?, ?B/s]"
      ]
     },
     "metadata": {},
     "output_type": "display_data"
    },
    {
     "data": {
      "application/vnd.jupyter.widget-view+json": {
       "model_id": "840e8da4364e43da97de176ec225253a",
       "version_major": 2,
       "version_minor": 0
      },
      "text/plain": [
       "Downloading (…)olve/main/vocab.json:   0%|          | 0.00/798k [00:00<?, ?B/s]"
      ]
     },
     "metadata": {},
     "output_type": "display_data"
    },
    {
     "data": {
      "application/vnd.jupyter.widget-view+json": {
       "model_id": "a7008e32d4d0455596b56f5629b75ee3",
       "version_major": 2,
       "version_minor": 0
      },
      "text/plain": [
       "Downloading (…)olve/main/merges.txt:   0%|          | 0.00/456k [00:00<?, ?B/s]"
      ]
     },
     "metadata": {},
     "output_type": "display_data"
    },
    {
     "data": {
      "application/vnd.jupyter.widget-view+json": {
       "model_id": "f3598e8b42e64d59a47e111b4891e37c",
       "version_major": 2,
       "version_minor": 0
      },
      "text/plain": [
       "Downloading (…)/main/tokenizer.json:   0%|          | 0.00/2.11M [00:00<?, ?B/s]"
      ]
     },
     "metadata": {},
     "output_type": "display_data"
    },
    {
     "data": {
      "application/vnd.jupyter.widget-view+json": {
       "model_id": "9b611d55ccd549269beb22075269a289",
       "version_major": 2,
       "version_minor": 0
      },
      "text/plain": [
       "Downloading (…)cial_tokens_map.json:   0%|          | 0.00/280 [00:00<?, ?B/s]"
      ]
     },
     "metadata": {},
     "output_type": "display_data"
    },
    {
     "data": {
      "application/vnd.jupyter.widget-view+json": {
       "model_id": "2a98863adb35483eac2ea359c24fa1cf",
       "version_major": 2,
       "version_minor": 0
      },
      "text/plain": [
       "Downloading (…)lve/main/config.json:   0%|          | 0.00/701 [00:00<?, ?B/s]"
      ]
     },
     "metadata": {},
     "output_type": "display_data"
    },
    {
     "data": {
      "application/vnd.jupyter.widget-view+json": {
       "model_id": "42dd522eeeb44a71b8f3fcf864861b01",
       "version_major": 2,
       "version_minor": 0
      },
      "text/plain": [
       "Downloading model.safetensors:   0%|          | 0.00/121M [00:00<?, ?B/s]"
      ]
     },
     "metadata": {},
     "output_type": "display_data"
    }
   ],
   "source": [
    "import transformers\n",
    "\n",
    "\n",
    "# use sguskin/minilmv2-L6-H384-squad1.1\n",
    "from transformers import AutoTokenizer, AutoModelForQuestionAnswering\n",
    "\n",
    "tokenizer = AutoTokenizer.from_pretrained(\"ngnigel99/minilmv2-FineTuned\")\n",
    "model = AutoModelForQuestionAnswering.from_pretrained(\"ngnigel99/minilmv2-FineTuned\")\n"
   ]
  },
  {
   "cell_type": "code",
   "execution_count": 2,
   "metadata": {},
   "outputs": [],
   "source": [
    "# reading from dev-v1.1.json\n",
    "import json\n",
    "data = json.load(open(\"./dev-v1.1.json\"))"
   ]
  },
  {
   "cell_type": "code",
   "execution_count": 3,
   "metadata": {},
   "outputs": [
    {
     "name": "stderr",
     "output_type": "stream",
     "text": [
      "0it [00:00, ?it/s]2023-11-13 15:37:28.297363: W tensorflow/stream_executor/platform/default/dso_loader.cc:60] Could not load dynamic library 'libcudart.so.11.0'; dlerror: libcudart.so.11.0: cannot open shared object file: No such file or directory\n",
      "2023-11-13 15:37:28.297409: I tensorflow/stream_executor/cuda/cudart_stub.cc:29] Ignore above cudart dlerror if you do not have a GPU set up on your machine.\n",
      "10570it [00:36, 290.07it/s]"
     ]
    },
    {
     "name": "stdout",
     "output_type": "stream",
     "text": [
      "Time taken:  36.44517135620117 seconds\n",
      "Done writing to file\n"
     ]
    },
    {
     "name": "stderr",
     "output_type": "stream",
     "text": [
      "\n"
     ]
    }
   ],
   "source": [
    "import time\n",
    "from tqdm import tqdm\n",
    "import torch\n",
    "\n",
    "def parse_data(data):\n",
    "    # parses data to only retrieve id, context, question\n",
    "    questions = []\n",
    "    contexts = []\n",
    "    ids = []\n",
    "    for data_item in data[\"data\"]:\n",
    "        for paragraph in data_item[\"paragraphs\"]:\n",
    "            for qa in paragraph[\"qas\"]:\n",
    "                questions.append(qa[\"question\"])\n",
    "                contexts.append(paragraph[\"context\"])\n",
    "                ids.append(qa[\"id\"])\n",
    "    \n",
    "    return zip(ids, questions, contexts)\n",
    "\n",
    "def answer(model, data, output_file):\n",
    "    device = torch.device(\"cuda\" if torch.cuda.is_available() else \"cpu\")\n",
    "    model = model.to(device)\n",
    "    start_time = time.time()\n",
    "    res = {}\n",
    "    for id_, question, context in tqdm(parse_data(data)):\n",
    "        inputs = tokenizer.encode_plus(question, context,\n",
    "                                       add_special_tokens=True, return_tensors=\"pt\",\n",
    "                                       max_length=512, truncation='only_second', padding='max_length'\n",
    "                                       ).to(device)\n",
    "        \n",
    "        input_ids = inputs[\"input_ids\"].tolist()[0]\n",
    "\n",
    "        text_tokens = tokenizer.convert_ids_to_tokens(input_ids)\n",
    "        answer_start_scores, answer_end_scores = model(**inputs, return_dict=False)\n",
    "        answer_start = torch.argmax(answer_start_scores).to(device)\n",
    "        answer_end = torch.argmax(answer_end_scores).to(device) \n",
    "    \n",
    "        predict_anser_tokens = text_tokens[answer_start:answer_end+1]\n",
    "        predict_answer = tokenizer.decode(tokenizer.convert_tokens_to_ids(predict_anser_tokens))\n",
    "        res[id_] = predict_answer\n",
    "        \n",
    "    print(\"Time taken: \", time.time() - start_time, \"seconds\")\n",
    "    \n",
    "    with open(output_file, 'w') as f:\n",
    "        json.dump(res, f)\n",
    "\n",
    "    print(\"Done writing to file\")\n",
    "            \n",
    "answer(model, data, \"predictions_minimlv_ft.json\")"
   ]
  },
  {
   "cell_type": "code",
   "execution_count": 4,
   "metadata": {},
   "outputs": [
    {
     "name": "stderr",
     "output_type": "stream",
     "text": [
      "huggingface/tokenizers: The current process just got forked, after parallelism has already been used. Disabling parallelism to avoid deadlocks...\n",
      "To disable this warning, you can either:\n",
      "\t- Avoid using `tokenizers` before the fork if possible\n",
      "\t- Explicitly set the environment variable TOKENIZERS_PARALLELISM=(true | false)\n"
     ]
    },
    {
     "name": "stdout",
     "output_type": "stream",
     "text": [
      "{\n",
      "  \"exact\": 76.6887417218543,\n",
      "  \"f1\": 84.22624530465306,\n",
      "  \"total\": 10570,\n",
      "  \"HasAns_exact\": 76.6887417218543,\n",
      "  \"HasAns_f1\": 84.22624530465306,\n",
      "  \"HasAns_total\": 10570\n",
      "}\n"
     ]
    }
   ],
   "source": [
    "!python evaluate-v2.0.py dev-v1.1.json predictions_minimlv_ft.json"
   ]
  }
 ],
 "metadata": {
  "kernelspec": {
   "display_name": "roberta",
   "language": "python",
   "name": "python3"
  },
  "language_info": {
   "codemirror_mode": {
    "name": "ipython",
    "version": 3
   },
   "file_extension": ".py",
   "mimetype": "text/x-python",
   "name": "python",
   "nbconvert_exporter": "python",
   "pygments_lexer": "ipython3",
   "version": "3.8.18"
  }
 },
 "nbformat": 4,
 "nbformat_minor": 2
}
