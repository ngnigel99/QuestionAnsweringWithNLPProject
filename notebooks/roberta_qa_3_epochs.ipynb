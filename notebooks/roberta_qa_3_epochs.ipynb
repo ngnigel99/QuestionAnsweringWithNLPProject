{
 "cells": [
  {
   "cell_type": "code",
   "execution_count": 1,
   "metadata": {},
   "outputs": [],
   "source": [
    "import transformers\n",
    "from transformers import RobertaTokenizer, RobertaForQuestionAnswering\n",
    "tokenizer = RobertaTokenizer.from_pretrained('ngnigel99/RoBERTa_QA-FineTuned')\n",
    "model = RobertaForQuestionAnswering.from_pretrained('ngnigel99/RoBERTa_QA-FineTuned')"
   ]
  },
  {
   "cell_type": "code",
   "execution_count": 2,
   "metadata": {},
   "outputs": [],
   "source": [
    "# reading from dev-v1.1.json\n",
    "import json\n",
    "data = json.load(open(\"./dev-v1.1.json\"))"
   ]
  },
  {
   "cell_type": "code",
   "execution_count": 14,
   "metadata": {},
   "outputs": [
    {
     "name": "stderr",
     "output_type": "stream",
     "text": [
      "0it [00:00, ?it/s]"
     ]
    },
    {
     "name": "stderr",
     "output_type": "stream",
     "text": [
      "10570it [01:20, 131.37it/s]"
     ]
    },
    {
     "name": "stdout",
     "output_type": "stream",
     "text": [
      "Time taken:  80.46471047401428 seconds\n",
      "Done writing to file\n"
     ]
    },
    {
     "name": "stderr",
     "output_type": "stream",
     "text": [
      "\n"
     ]
    }
   ],
   "source": [
    "import time\n",
    "from tqdm import tqdm\n",
    "import torch\n",
    "\n",
    "def parse_data(data):\n",
    "    # parses data to only retrieve id, context, question\n",
    "    questions = []\n",
    "    contexts = []\n",
    "    ids = []\n",
    "    for data_item in data[\"data\"]:\n",
    "        for paragraph in data_item[\"paragraphs\"]:\n",
    "            for qa in paragraph[\"qas\"]:\n",
    "                questions.append(qa[\"question\"])\n",
    "                contexts.append(paragraph[\"context\"])\n",
    "                ids.append(qa[\"id\"])\n",
    "    \n",
    "    return zip(ids, questions, contexts)\n",
    "\n",
    "def answer(model, data, output_file):\n",
    "    device = torch.device(\"cuda\" if torch.cuda.is_available() else \"cpu\")\n",
    "    model = model.to(device)\n",
    "    start_time = time.time()\n",
    "    res = {}\n",
    "    for id_, question, context in tqdm(parse_data(data)):\n",
    "        inputs = tokenizer.encode_plus(question, context, add_special_tokens=True, return_tensors=\"pt\",\n",
    "                                       max_length=512, truncation='only_second', padding='max_length',\n",
    "                                       return_overflowing_tokens=True)     \n",
    "           \n",
    "        # Remove overflowing_tokens from inputs\n",
    "        if 'overflowing_tokens' in inputs:\n",
    "            del inputs['overflowing_tokens']\n",
    "            \n",
    "        if 'num_truncated_tokens' in inputs:\n",
    "            del inputs['num_truncated_tokens']\n",
    "            \n",
    "        inputs = {k: v.to(device) for k, v in inputs.items()}\n",
    "\n",
    "        input_ids = inputs[\"input_ids\"].tolist()[0]\n",
    "\n",
    "        # Move input_ids back to CPU for use with tokenizer\n",
    "        input_ids_cpu = inputs[\"input_ids\"].to('cpu').tolist()[0]\n",
    "        text_tokens = tokenizer.convert_ids_to_tokens(input_ids_cpu)\n",
    "        outputs = model(**inputs)\n",
    "\n",
    "        answer_start_scores = outputs.start_logits\n",
    "        answer_end_scores = outputs.end_logits\n",
    "        \n",
    "        answer_start = torch.argmax(answer_start_scores)\n",
    "        answer_end = torch.argmax(answer_end_scores) + 1\n",
    "\n",
    "        # Convert input_ids back to GPU for slicing\n",
    "        input_ids = inputs[\"input_ids\"][0] \n",
    "        answer = tokenizer.convert_tokens_to_string(tokenizer.convert_ids_to_tokens(input_ids[answer_start:answer_end].to('cpu')))\n",
    "        \n",
    "        res[id_] = answer\n",
    "    \n",
    "    print(\"Time taken: \", time.time() - start_time, \"seconds\")\n",
    "    \n",
    "    with open(output_file, 'w') as f:\n",
    "        json.dump(res, f)\n",
    "\n",
    "    print(\"Done writing to file\")\n",
    "            \n",
    "answer(model, data, \"predictions.json\")"
   ]
  },
  {
   "cell_type": "code",
   "execution_count": 2,
   "metadata": {},
   "outputs": [
    {
     "name": "stdout",
     "output_type": "stream",
     "text": [
      "{\n",
      "  \"exact\": 69.11069063386944,\n",
      "  \"f1\": 77.08073476189746,\n",
      "  \"total\": 10570,\n",
      "  \"HasAns_exact\": 69.11069063386944,\n",
      "  \"HasAns_f1\": 77.08073476189746,\n",
      "  \"HasAns_total\": 10570\n",
      "}\n"
     ]
    }
   ],
   "source": [
    "!python evaluate-v2.0.py dev-v1.1.json predictions.json"
   ]
  }
 ],
 "metadata": {
  "kernelspec": {
   "display_name": "roberta",
   "language": "python",
   "name": "python3"
  },
  "language_info": {
   "codemirror_mode": {
    "name": "ipython",
    "version": 3
   },
   "file_extension": ".py",
   "mimetype": "text/x-python",
   "name": "python",
   "nbconvert_exporter": "python",
   "pygments_lexer": "ipython3",
   "version": "3.8.18"
  }
 },
 "nbformat": 4,
 "nbformat_minor": 2
}
